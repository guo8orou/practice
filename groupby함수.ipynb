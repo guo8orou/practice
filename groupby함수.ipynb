{
  "nbformat": 4,
  "nbformat_minor": 0,
  "metadata": {
    "colab": {
      "name": "groupby함수.ipynb",
      "provenance": [],
      "authorship_tag": "ABX9TyN7yGPBmLj3TRanA3e1gM1p",
      "include_colab_link": true
    },
    "kernelspec": {
      "name": "python3",
      "display_name": "Python 3"
    },
    "language_info": {
      "name": "python"
    }
  },
  "cells": [
    {
      "cell_type": "markdown",
      "metadata": {
        "id": "view-in-github",
        "colab_type": "text"
      },
      "source": [
        "<a href=\"https://colab.research.google.com/github/guo8orou/practice/blob/main/groupby%ED%95%A8%EC%88%98.ipynb\" target=\"_parent\"><img src=\"https://colab.research.google.com/assets/colab-badge.svg\" alt=\"Open In Colab\"/></a>"
      ]
    },
    {
      "cell_type": "code",
      "metadata": {
        "colab": {
          "base_uri": "https://localhost:8080/"
        },
        "id": "XMiOP2KzfryR",
        "outputId": "9e1c924d-5d71-4889-ef13-cc8ee3045906"
      },
      "source": [
        "!wget https://www.shanelynn.ie/wp-content/uploads/2015/06/phone_data.csv"
      ],
      "execution_count": 1,
      "outputs": [
        {
          "output_type": "stream",
          "name": "stdout",
          "text": [
            "--2021-11-23 15:52:14--  https://www.shanelynn.ie/wp-content/uploads/2015/06/phone_data.csv\n",
            "Resolving www.shanelynn.ie (www.shanelynn.ie)... 104.236.88.249\n",
            "Connecting to www.shanelynn.ie (www.shanelynn.ie)|104.236.88.249|:443... connected.\n",
            "HTTP request sent, awaiting response... 200 OK\n",
            "Length: 40576 (40K) [text/csv]\n",
            "Saving to: ‘phone_data.csv’\n",
            "\n",
            "phone_data.csv      100%[===================>]  39.62K  --.-KB/s    in 0.007s  \n",
            "\n",
            "2021-11-23 15:52:14 (5.19 MB/s) - ‘phone_data.csv’ saved [40576/40576]\n",
            "\n"
          ]
        }
      ]
    },
    {
      "cell_type": "code",
      "metadata": {
        "id": "P95GZJJof364"
      },
      "source": [
        "import pandas as pd\n",
        "df=pd.read_csv(\"phone_data.csv\")"
      ],
      "execution_count": 3,
      "outputs": []
    },
    {
      "cell_type": "markdown",
      "metadata": {
        "id": "NaoWYG0AgH4Y"
      },
      "source": [
        "날짜 데이터 형식으로 바꾸기"
      ]
    },
    {
      "cell_type": "code",
      "metadata": {
        "colab": {
          "base_uri": "https://localhost:8080/"
        },
        "id": "re1BQ1FtgEyD",
        "outputId": "4edfdb11-2e76-45e2-fd96-a033095568ff"
      },
      "source": [
        "df.dtypes #date(날짜)가 object"
      ],
      "execution_count": 5,
      "outputs": [
        {
          "output_type": "execute_result",
          "data": {
            "text/plain": [
              "index             int64\n",
              "date             object\n",
              "duration        float64\n",
              "item             object\n",
              "month            object\n",
              "network          object\n",
              "network_type     object\n",
              "dtype: object"
            ]
          },
          "metadata": {},
          "execution_count": 5
        }
      ]
    },
    {
      "cell_type": "code",
      "metadata": {
        "colab": {
          "base_uri": "https://localhost:8080/"
        },
        "id": "XFJRM2MkgVyP",
        "outputId": "f67d9b9f-b8a5-4014-bab7-b6cb051a042f"
      },
      "source": [
        "df['date'].head()"
      ],
      "execution_count": 6,
      "outputs": [
        {
          "output_type": "execute_result",
          "data": {
            "text/plain": [
              "0    15/10/14 06:58\n",
              "1    15/10/14 06:58\n",
              "2    15/10/14 14:46\n",
              "3    15/10/14 14:48\n",
              "4    15/10/14 17:27\n",
              "Name: date, dtype: object"
            ]
          },
          "metadata": {},
          "execution_count": 6
        }
      ]
    },
    {
      "cell_type": "code",
      "metadata": {
        "id": "zTLwqOFrgA3C"
      },
      "source": [
        "import  dateutil\n",
        "\n",
        "df['date']=df['date'].apply(dateutil.parser.parse, dayfirst=True)"
      ],
      "execution_count": 7,
      "outputs": []
    },
    {
      "cell_type": "code",
      "metadata": {
        "colab": {
          "base_uri": "https://localhost:8080/"
        },
        "id": "0Ty_U6Dxgajl",
        "outputId": "882f868d-d146-40d5-f8ef-9108a6384af8"
      },
      "source": [
        "df['date'].head() #데이터 타입이 datetime64로 변경"
      ],
      "execution_count": 8,
      "outputs": [
        {
          "output_type": "execute_result",
          "data": {
            "text/plain": [
              "0   2014-10-15 06:58:00\n",
              "1   2014-10-15 06:58:00\n",
              "2   2014-10-15 14:46:00\n",
              "3   2014-10-15 14:48:00\n",
              "4   2014-10-15 17:27:00\n",
              "Name: date, dtype: datetime64[ns]"
            ]
          },
          "metadata": {},
          "execution_count": 8
        }
      ]
    },
    {
      "cell_type": "code",
      "metadata": {
        "colab": {
          "base_uri": "https://localhost:8080/",
          "height": 206
        },
        "id": "r36TMz6WgrQf",
        "outputId": "50880ff4-b609-4ef1-843a-b3f1e672248d"
      },
      "source": [
        "df.head()"
      ],
      "execution_count": 9,
      "outputs": [
        {
          "output_type": "execute_result",
          "data": {
            "text/html": [
              "<div>\n",
              "<style scoped>\n",
              "    .dataframe tbody tr th:only-of-type {\n",
              "        vertical-align: middle;\n",
              "    }\n",
              "\n",
              "    .dataframe tbody tr th {\n",
              "        vertical-align: top;\n",
              "    }\n",
              "\n",
              "    .dataframe thead th {\n",
              "        text-align: right;\n",
              "    }\n",
              "</style>\n",
              "<table border=\"1\" class=\"dataframe\">\n",
              "  <thead>\n",
              "    <tr style=\"text-align: right;\">\n",
              "      <th></th>\n",
              "      <th>index</th>\n",
              "      <th>date</th>\n",
              "      <th>duration</th>\n",
              "      <th>item</th>\n",
              "      <th>month</th>\n",
              "      <th>network</th>\n",
              "      <th>network_type</th>\n",
              "    </tr>\n",
              "  </thead>\n",
              "  <tbody>\n",
              "    <tr>\n",
              "      <th>0</th>\n",
              "      <td>0</td>\n",
              "      <td>2014-10-15 06:58:00</td>\n",
              "      <td>34.429</td>\n",
              "      <td>data</td>\n",
              "      <td>2014-11</td>\n",
              "      <td>data</td>\n",
              "      <td>data</td>\n",
              "    </tr>\n",
              "    <tr>\n",
              "      <th>1</th>\n",
              "      <td>1</td>\n",
              "      <td>2014-10-15 06:58:00</td>\n",
              "      <td>13.000</td>\n",
              "      <td>call</td>\n",
              "      <td>2014-11</td>\n",
              "      <td>Vodafone</td>\n",
              "      <td>mobile</td>\n",
              "    </tr>\n",
              "    <tr>\n",
              "      <th>2</th>\n",
              "      <td>2</td>\n",
              "      <td>2014-10-15 14:46:00</td>\n",
              "      <td>23.000</td>\n",
              "      <td>call</td>\n",
              "      <td>2014-11</td>\n",
              "      <td>Meteor</td>\n",
              "      <td>mobile</td>\n",
              "    </tr>\n",
              "    <tr>\n",
              "      <th>3</th>\n",
              "      <td>3</td>\n",
              "      <td>2014-10-15 14:48:00</td>\n",
              "      <td>4.000</td>\n",
              "      <td>call</td>\n",
              "      <td>2014-11</td>\n",
              "      <td>Tesco</td>\n",
              "      <td>mobile</td>\n",
              "    </tr>\n",
              "    <tr>\n",
              "      <th>4</th>\n",
              "      <td>4</td>\n",
              "      <td>2014-10-15 17:27:00</td>\n",
              "      <td>4.000</td>\n",
              "      <td>call</td>\n",
              "      <td>2014-11</td>\n",
              "      <td>Tesco</td>\n",
              "      <td>mobile</td>\n",
              "    </tr>\n",
              "  </tbody>\n",
              "</table>\n",
              "</div>"
            ],
            "text/plain": [
              "   index                date  duration  item    month   network network_type\n",
              "0      0 2014-10-15 06:58:00    34.429  data  2014-11      data         data\n",
              "1      1 2014-10-15 06:58:00    13.000  call  2014-11  Vodafone       mobile\n",
              "2      2 2014-10-15 14:46:00    23.000  call  2014-11    Meteor       mobile\n",
              "3      3 2014-10-15 14:48:00     4.000  call  2014-11     Tesco       mobile\n",
              "4      4 2014-10-15 17:27:00     4.000  call  2014-11     Tesco       mobile"
            ]
          },
          "metadata": {},
          "execution_count": 9
        }
      ]
    },
    {
      "cell_type": "markdown",
      "metadata": {
        "id": "caS42eobgvVW"
      },
      "source": [
        "월별 통화지속 시간 합"
      ]
    },
    {
      "cell_type": "code",
      "metadata": {
        "colab": {
          "base_uri": "https://localhost:8080/"
        },
        "id": "hPZECB3lghjC",
        "outputId": "ea636936-850e-4ac4-fd32-592722029c32"
      },
      "source": [
        "df.groupby('month')['duration'].sum()"
      ],
      "execution_count": 10,
      "outputs": [
        {
          "output_type": "execute_result",
          "data": {
            "text/plain": [
              "month\n",
              "2014-11    26639.441\n",
              "2014-12    14641.870\n",
              "2015-01    18223.299\n",
              "2015-02    15522.299\n",
              "2015-03    22750.441\n",
              "Name: duration, dtype: float64"
            ]
          },
          "metadata": {},
          "execution_count": 10
        }
      ]
    },
    {
      "cell_type": "code",
      "metadata": {
        "colab": {
          "base_uri": "https://localhost:8080/"
        },
        "id": "jGc1FevPg2Sk",
        "outputId": "07e7cbda-e0fc-4f31-9610-838954a50bb3"
      },
      "source": [
        "df.groupby('month')['duration'].count()"
      ],
      "execution_count": 12,
      "outputs": [
        {
          "output_type": "execute_result",
          "data": {
            "text/plain": [
              "month\n",
              "2014-11    230\n",
              "2014-12    157\n",
              "2015-01    205\n",
              "2015-02    137\n",
              "2015-03    101\n",
              "Name: duration, dtype: int64"
            ]
          },
          "metadata": {},
          "execution_count": 12
        }
      ]
    },
    {
      "cell_type": "markdown",
      "metadata": {
        "id": "WYX8fzLXh-jo"
      },
      "source": [
        "한줄 코드 시각화"
      ]
    },
    {
      "cell_type": "code",
      "metadata": {
        "colab": {
          "base_uri": "https://localhost:8080/",
          "height": 297
        },
        "id": "Z5Qtg6fRg579",
        "outputId": "d911f757-3d0d-46c1-ec4c-6272ae90e993"
      },
      "source": [
        "#matplotlib 설치되어 있으면 import 안해도 .plot()으로 그려짐. 충격.\n",
        "df.groupby('month')['duration'].mean().plot()"
      ],
      "execution_count": 13,
      "outputs": [
        {
          "output_type": "execute_result",
          "data": {
            "text/plain": [
              "<matplotlib.axes._subplots.AxesSubplot at 0x7f399dfb7a10>"
            ]
          },
          "metadata": {},
          "execution_count": 13
        },
        {
          "output_type": "display_data",
          "data": {
            "image/png": "[encoded data removed]",
            "text/plain": [
              "<Figure size 432x288 with 1 Axes>"
            ]
          },
          "metadata": {
            "needs_background": "light"
          }
        }
      ]
    },
    {
      "cell_type": "code",
      "metadata": {
        "colab": {
          "base_uri": "https://localhost:8080/"
        },
        "id": "tQDoo5F_hQ2l",
        "outputId": "07842903-8f7e-4516-cbe5-455ea24fae2b"
      },
      "source": [
        "df.item.unique()"
      ],
      "execution_count": 15,
      "outputs": [
        {
          "output_type": "execute_result",
          "data": {
            "text/plain": [
              "array(['data', 'call', 'sms'], dtype=object)"
            ]
          },
          "metadata": {},
          "execution_count": 15
        }
      ]
    },
    {
      "cell_type": "code",
      "metadata": {
        "colab": {
          "base_uri": "https://localhost:8080/",
          "height": 299
        },
        "id": "BO79wU8mhNJe",
        "outputId": "35341ff8-8a10-4351-b4b6-361a2719c025"
      },
      "source": [
        "df[df['item']=='call'].groupby('month')['duration'].sum().plot()"
      ],
      "execution_count": 17,
      "outputs": [
        {
          "output_type": "execute_result",
          "data": {
            "text/plain": [
              "<matplotlib.axes._subplots.AxesSubplot at 0x7f399dbf5610>"
            ]
          },
          "metadata": {},
          "execution_count": 17
        },
        {
          "output_type": "display_data",
          "data": {
            "image/png": "[encoded data removed]",
            "text/plain": [
              "<Figure size 432x288 with 1 Axes>"
            ]
          },
          "metadata": {
            "needs_background": "light"
          }
        }
      ]
    },
    {
      "cell_type": "code",
      "metadata": {
        "colab": {
          "base_uri": "https://localhost:8080/"
        },
        "id": "Di8BmfhrhgDh",
        "outputId": "fe6e47b2-ffa8-445b-aa94-abcaeb3e6e87"
      },
      "source": [
        "df.groupby(['month','item'])['duration'].mean()"
      ],
      "execution_count": 23,
      "outputs": [
        {
          "output_type": "execute_result",
          "data": {
            "text/plain": [
              "month    item\n",
              "2014-11  call    238.757009\n",
              "         data     34.429000\n",
              "         sms       1.000000\n",
              "2014-12  call    171.658228\n",
              "         data     34.429000\n",
              "         sms       1.000000\n",
              "2015-01  call    193.977273\n",
              "         data     34.429000\n",
              "         sms       1.000000\n",
              "2015-02  call    215.164179\n",
              "         data     34.429000\n",
              "         sms       1.000000\n",
              "2015-03  call    462.276596\n",
              "         data     34.429000\n",
              "         sms       1.000000\n",
              "Name: duration, dtype: float64"
            ]
          },
          "metadata": {},
          "execution_count": 23
        }
      ]
    },
    {
      "cell_type": "code",
      "metadata": {
        "colab": {
          "base_uri": "https://localhost:8080/",
          "height": 238
        },
        "id": "XgCIotpihupg",
        "outputId": "0bf9eb7e-b1ef-4091-98c3-9fda7787322d"
      },
      "source": [
        "df.groupby(['month','item'])['duration'].mean().unstack() #table 출력"
      ],
      "execution_count": 24,
      "outputs": [
        {
          "output_type": "execute_result",
          "data": {
            "text/html": [
              "<div>\n",
              "<style scoped>\n",
              "    .dataframe tbody tr th:only-of-type {\n",
              "        vertical-align: middle;\n",
              "    }\n",
              "\n",
              "    .dataframe tbody tr th {\n",
              "        vertical-align: top;\n",
              "    }\n",
              "\n",
              "    .dataframe thead th {\n",
              "        text-align: right;\n",
              "    }\n",
              "</style>\n",
              "<table border=\"1\" class=\"dataframe\">\n",
              "  <thead>\n",
              "    <tr style=\"text-align: right;\">\n",
              "      <th>item</th>\n",
              "      <th>call</th>\n",
              "      <th>data</th>\n",
              "      <th>sms</th>\n",
              "    </tr>\n",
              "    <tr>\n",
              "      <th>month</th>\n",
              "      <th></th>\n",
              "      <th></th>\n",
              "      <th></th>\n",
              "    </tr>\n",
              "  </thead>\n",
              "  <tbody>\n",
              "    <tr>\n",
              "      <th>2014-11</th>\n",
              "      <td>238.757009</td>\n",
              "      <td>34.429</td>\n",
              "      <td>1.0</td>\n",
              "    </tr>\n",
              "    <tr>\n",
              "      <th>2014-12</th>\n",
              "      <td>171.658228</td>\n",
              "      <td>34.429</td>\n",
              "      <td>1.0</td>\n",
              "    </tr>\n",
              "    <tr>\n",
              "      <th>2015-01</th>\n",
              "      <td>193.977273</td>\n",
              "      <td>34.429</td>\n",
              "      <td>1.0</td>\n",
              "    </tr>\n",
              "    <tr>\n",
              "      <th>2015-02</th>\n",
              "      <td>215.164179</td>\n",
              "      <td>34.429</td>\n",
              "      <td>1.0</td>\n",
              "    </tr>\n",
              "    <tr>\n",
              "      <th>2015-03</th>\n",
              "      <td>462.276596</td>\n",
              "      <td>34.429</td>\n",
              "      <td>1.0</td>\n",
              "    </tr>\n",
              "  </tbody>\n",
              "</table>\n",
              "</div>"
            ],
            "text/plain": [
              "item           call    data  sms\n",
              "month                           \n",
              "2014-11  238.757009  34.429  1.0\n",
              "2014-12  171.658228  34.429  1.0\n",
              "2015-01  193.977273  34.429  1.0\n",
              "2015-02  215.164179  34.429  1.0\n",
              "2015-03  462.276596  34.429  1.0"
            ]
          },
          "metadata": {},
          "execution_count": 24
        }
      ]
    },
    {
      "cell_type": "code",
      "metadata": {
        "colab": {
          "base_uri": "https://localhost:8080/",
          "height": 297
        },
        "id": "_9xJuKFMhxUY",
        "outputId": "51f5cf60-9946-4829-c70b-29b10774f359"
      },
      "source": [
        "df.groupby(['month','item'])['duration'].count().unstack().plot() #셋상에,,,"
      ],
      "execution_count": 26,
      "outputs": [
        {
          "output_type": "execute_result",
          "data": {
            "text/plain": [
              "<matplotlib.axes._subplots.AxesSubplot at 0x7f399d476c50>"
            ]
          },
          "metadata": {},
          "execution_count": 26
        },
        {
          "output_type": "display_data",
          "data": {
            "image/png": "[encoded data removed]",
            "text/plain": [
              "<Figure size 432x288 with 1 Axes>"
            ]
          },
          "metadata": {
            "needs_background": "light"
          }
        }
      ]
    },
    {
      "cell_type": "code",
      "metadata": {
        "colab": {
          "base_uri": "https://localhost:8080/",
          "height": 206
        },
        "id": "7UVZ_damh8nb",
        "outputId": "0b13fc2a-f556-4484-b3ff-4107ba9d3293"
      },
      "source": [
        "df.groupby('month', as_index=False).count()\n",
        "#groupby는 as_index=True가 기본, Flase면 unstack()과 같은 효과?"
      ],
      "execution_count": 28,
      "outputs": [
        {
          "output_type": "execute_result",
          "data": {
            "text/html": [
              "<div>\n",
              "<style scoped>\n",
              "    .dataframe tbody tr th:only-of-type {\n",
              "        vertical-align: middle;\n",
              "    }\n",
              "\n",
              "    .dataframe tbody tr th {\n",
              "        vertical-align: top;\n",
              "    }\n",
              "\n",
              "    .dataframe thead th {\n",
              "        text-align: right;\n",
              "    }\n",
              "</style>\n",
              "<table border=\"1\" class=\"dataframe\">\n",
              "  <thead>\n",
              "    <tr style=\"text-align: right;\">\n",
              "      <th></th>\n",
              "      <th>month</th>\n",
              "      <th>index</th>\n",
              "      <th>date</th>\n",
              "      <th>duration</th>\n",
              "      <th>item</th>\n",
              "      <th>network</th>\n",
              "      <th>network_type</th>\n",
              "    </tr>\n",
              "  </thead>\n",
              "  <tbody>\n",
              "    <tr>\n",
              "      <th>0</th>\n",
              "      <td>2014-11</td>\n",
              "      <td>230</td>\n",
              "      <td>230</td>\n",
              "      <td>230</td>\n",
              "      <td>230</td>\n",
              "      <td>230</td>\n",
              "      <td>230</td>\n",
              "    </tr>\n",
              "    <tr>\n",
              "      <th>1</th>\n",
              "      <td>2014-12</td>\n",
              "      <td>157</td>\n",
              "      <td>157</td>\n",
              "      <td>157</td>\n",
              "      <td>157</td>\n",
              "      <td>157</td>\n",
              "      <td>157</td>\n",
              "    </tr>\n",
              "    <tr>\n",
              "      <th>2</th>\n",
              "      <td>2015-01</td>\n",
              "      <td>205</td>\n",
              "      <td>205</td>\n",
              "      <td>205</td>\n",
              "      <td>205</td>\n",
              "      <td>205</td>\n",
              "      <td>205</td>\n",
              "    </tr>\n",
              "    <tr>\n",
              "      <th>3</th>\n",
              "      <td>2015-02</td>\n",
              "      <td>137</td>\n",
              "      <td>137</td>\n",
              "      <td>137</td>\n",
              "      <td>137</td>\n",
              "      <td>137</td>\n",
              "      <td>137</td>\n",
              "    </tr>\n",
              "    <tr>\n",
              "      <th>4</th>\n",
              "      <td>2015-03</td>\n",
              "      <td>101</td>\n",
              "      <td>101</td>\n",
              "      <td>101</td>\n",
              "      <td>101</td>\n",
              "      <td>101</td>\n",
              "      <td>101</td>\n",
              "    </tr>\n",
              "  </tbody>\n",
              "</table>\n",
              "</div>"
            ],
            "text/plain": [
              "     month  index  date  duration  item  network  network_type\n",
              "0  2014-11    230   230       230   230      230           230\n",
              "1  2014-12    157   157       157   157      157           157\n",
              "2  2015-01    205   205       205   205      205           205\n",
              "3  2015-02    137   137       137   137      137           137\n",
              "4  2015-03    101   101       101   101      101           101"
            ]
          },
          "metadata": {},
          "execution_count": 28
        }
      ]
    },
    {
      "cell_type": "code",
      "metadata": {
        "colab": {
          "base_uri": "https://localhost:8080/",
          "height": 206
        },
        "id": "338XsLNRiNne",
        "outputId": "209b719c-f700-4215-9516-f875a021a702"
      },
      "source": [
        "df.groupby('month', as_index=False).agg({'duration':'mean'})\n",
        "#'열':'함수', 함수가 str로 쓰였다"
      ],
      "execution_count": 29,
      "outputs": [
        {
          "output_type": "execute_result",
          "data": {
            "text/html": [
              "<div>\n",
              "<style scoped>\n",
              "    .dataframe tbody tr th:only-of-type {\n",
              "        vertical-align: middle;\n",
              "    }\n",
              "\n",
              "    .dataframe tbody tr th {\n",
              "        vertical-align: top;\n",
              "    }\n",
              "\n",
              "    .dataframe thead th {\n",
              "        text-align: right;\n",
              "    }\n",
              "</style>\n",
              "<table border=\"1\" class=\"dataframe\">\n",
              "  <thead>\n",
              "    <tr style=\"text-align: right;\">\n",
              "      <th></th>\n",
              "      <th>month</th>\n",
              "      <th>duration</th>\n",
              "    </tr>\n",
              "  </thead>\n",
              "  <tbody>\n",
              "    <tr>\n",
              "      <th>0</th>\n",
              "      <td>2014-11</td>\n",
              "      <td>115.823657</td>\n",
              "    </tr>\n",
              "    <tr>\n",
              "      <th>1</th>\n",
              "      <td>2014-12</td>\n",
              "      <td>93.260318</td>\n",
              "    </tr>\n",
              "    <tr>\n",
              "      <th>2</th>\n",
              "      <td>2015-01</td>\n",
              "      <td>88.894141</td>\n",
              "    </tr>\n",
              "    <tr>\n",
              "      <th>3</th>\n",
              "      <td>2015-02</td>\n",
              "      <td>113.301453</td>\n",
              "    </tr>\n",
              "    <tr>\n",
              "      <th>4</th>\n",
              "      <td>2015-03</td>\n",
              "      <td>225.251891</td>\n",
              "    </tr>\n",
              "  </tbody>\n",
              "</table>\n",
              "</div>"
            ],
            "text/plain": [
              "     month    duration\n",
              "0  2014-11  115.823657\n",
              "1  2014-12   93.260318\n",
              "2  2015-01   88.894141\n",
              "3  2015-02  113.301453\n",
              "4  2015-03  225.251891"
            ]
          },
          "metadata": {},
          "execution_count": 29
        }
      ]
    },
    {
      "cell_type": "code",
      "metadata": {
        "colab": {
          "base_uri": "https://localhost:8080/",
          "height": 206
        },
        "id": "4mh4T2F0ijxv",
        "outputId": "9ff7fae7-b987-4a8f-9db0-8e5e5729723d"
      },
      "source": [
        "df.groupby('month').agg({'duration':'mean'}).reset_index()\n",
        "#as_index=False와 .reset_index()의 효과가 동일"
      ],
      "execution_count": 32,
      "outputs": [
        {
          "output_type": "execute_result",
          "data": {
            "text/html": [
              "<div>\n",
              "<style scoped>\n",
              "    .dataframe tbody tr th:only-of-type {\n",
              "        vertical-align: middle;\n",
              "    }\n",
              "\n",
              "    .dataframe tbody tr th {\n",
              "        vertical-align: top;\n",
              "    }\n",
              "\n",
              "    .dataframe thead th {\n",
              "        text-align: right;\n",
              "    }\n",
              "</style>\n",
              "<table border=\"1\" class=\"dataframe\">\n",
              "  <thead>\n",
              "    <tr style=\"text-align: right;\">\n",
              "      <th></th>\n",
              "      <th>month</th>\n",
              "      <th>duration</th>\n",
              "    </tr>\n",
              "  </thead>\n",
              "  <tbody>\n",
              "    <tr>\n",
              "      <th>0</th>\n",
              "      <td>2014-11</td>\n",
              "      <td>115.823657</td>\n",
              "    </tr>\n",
              "    <tr>\n",
              "      <th>1</th>\n",
              "      <td>2014-12</td>\n",
              "      <td>93.260318</td>\n",
              "    </tr>\n",
              "    <tr>\n",
              "      <th>2</th>\n",
              "      <td>2015-01</td>\n",
              "      <td>88.894141</td>\n",
              "    </tr>\n",
              "    <tr>\n",
              "      <th>3</th>\n",
              "      <td>2015-02</td>\n",
              "      <td>113.301453</td>\n",
              "    </tr>\n",
              "    <tr>\n",
              "      <th>4</th>\n",
              "      <td>2015-03</td>\n",
              "      <td>225.251891</td>\n",
              "    </tr>\n",
              "  </tbody>\n",
              "</table>\n",
              "</div>"
            ],
            "text/plain": [
              "     month    duration\n",
              "0  2014-11  115.823657\n",
              "1  2014-12   93.260318\n",
              "2  2015-01   88.894141\n",
              "3  2015-02  113.301453\n",
              "4  2015-03  225.251891"
            ]
          },
          "metadata": {},
          "execution_count": 32
        }
      ]
    },
    {
      "cell_type": "markdown",
      "metadata": {
        "id": "ytgCvbEPjMib"
      },
      "source": [
        "#다채로운 agg 사용"
      ]
    },
    {
      "cell_type": "code",
      "metadata": {
        "colab": {
          "base_uri": "https://localhost:8080/",
          "height": 238
        },
        "id": "cQTMLAFEi86n",
        "outputId": "9caaa560-66da-4dda-ed31-39ee96195e8d"
      },
      "source": [
        "df.groupby('month').agg({'duration':'mean',\n",
        "                         'network_type':'count',\n",
        "                         'date':'first'})  #그룹의 첫 관측치"
      ],
      "execution_count": 33,
      "outputs": [
        {
          "output_type": "execute_result",
          "data": {
            "text/html": [
              "<div>\n",
              "<style scoped>\n",
              "    .dataframe tbody tr th:only-of-type {\n",
              "        vertical-align: middle;\n",
              "    }\n",
              "\n",
              "    .dataframe tbody tr th {\n",
              "        vertical-align: top;\n",
              "    }\n",
              "\n",
              "    .dataframe thead th {\n",
              "        text-align: right;\n",
              "    }\n",
              "</style>\n",
              "<table border=\"1\" class=\"dataframe\">\n",
              "  <thead>\n",
              "    <tr style=\"text-align: right;\">\n",
              "      <th></th>\n",
              "      <th>duration</th>\n",
              "      <th>network_type</th>\n",
              "      <th>date</th>\n",
              "    </tr>\n",
              "    <tr>\n",
              "      <th>month</th>\n",
              "      <th></th>\n",
              "      <th></th>\n",
              "      <th></th>\n",
              "    </tr>\n",
              "  </thead>\n",
              "  <tbody>\n",
              "    <tr>\n",
              "      <th>2014-11</th>\n",
              "      <td>115.823657</td>\n",
              "      <td>230</td>\n",
              "      <td>2014-10-15 06:58:00</td>\n",
              "    </tr>\n",
              "    <tr>\n",
              "      <th>2014-12</th>\n",
              "      <td>93.260318</td>\n",
              "      <td>157</td>\n",
              "      <td>2014-11-13 06:58:00</td>\n",
              "    </tr>\n",
              "    <tr>\n",
              "      <th>2015-01</th>\n",
              "      <td>88.894141</td>\n",
              "      <td>205</td>\n",
              "      <td>2014-12-13 06:58:00</td>\n",
              "    </tr>\n",
              "    <tr>\n",
              "      <th>2015-02</th>\n",
              "      <td>113.301453</td>\n",
              "      <td>137</td>\n",
              "      <td>2015-01-13 06:58:00</td>\n",
              "    </tr>\n",
              "    <tr>\n",
              "      <th>2015-03</th>\n",
              "      <td>225.251891</td>\n",
              "      <td>101</td>\n",
              "      <td>2015-02-12 20:15:00</td>\n",
              "    </tr>\n",
              "  </tbody>\n",
              "</table>\n",
              "</div>"
            ],
            "text/plain": [
              "           duration  network_type                date\n",
              "month                                                \n",
              "2014-11  115.823657           230 2014-10-15 06:58:00\n",
              "2014-12   93.260318           157 2014-11-13 06:58:00\n",
              "2015-01   88.894141           205 2014-12-13 06:58:00\n",
              "2015-02  113.301453           137 2015-01-13 06:58:00\n",
              "2015-03  225.251891           101 2015-02-12 20:15:00"
            ]
          },
          "metadata": {},
          "execution_count": 33
        }
      ]
    },
    {
      "cell_type": "code",
      "metadata": {
        "colab": {
          "base_uri": "https://localhost:8080/",
          "height": 300
        },
        "id": "rG8SmwtVjOYX",
        "outputId": "f20b8f32-b43d-4d9b-82a4-5ee2d792bbaa"
      },
      "source": [
        "df.groupby(['month','item']).agg({'duration':['mean', min, max],\n",
        "                                  'network_type':'count',\n",
        "                                  'date':['first', 'nunique']})\n",
        "#Wow... \n",
        "#함수 파트 list 가능 / min, max, sum 등은 str처럼 사용하지 않음"
      ],
      "execution_count": 43,
      "outputs": [
        {
          "output_type": "execute_result",
          "data": {
            "text/html": [
              "<div>\n",
              "<style scoped>\n",
              "    .dataframe tbody tr th:only-of-type {\n",
              "        vertical-align: middle;\n",
              "    }\n",
              "\n",
              "    .dataframe tbody tr th {\n",
              "        vertical-align: top;\n",
              "    }\n",
              "\n",
              "    .dataframe thead tr th {\n",
              "        text-align: left;\n",
              "    }\n",
              "\n",
              "    .dataframe thead tr:last-of-type th {\n",
              "        text-align: right;\n",
              "    }\n",
              "</style>\n",
              "<table border=\"1\" class=\"dataframe\">\n",
              "  <thead>\n",
              "    <tr>\n",
              "      <th></th>\n",
              "      <th></th>\n",
              "      <th colspan=\"3\" halign=\"left\">duration</th>\n",
              "      <th>network_type</th>\n",
              "      <th colspan=\"2\" halign=\"left\">date</th>\n",
              "    </tr>\n",
              "    <tr>\n",
              "      <th></th>\n",
              "      <th></th>\n",
              "      <th>mean</th>\n",
              "      <th>min</th>\n",
              "      <th>max</th>\n",
              "      <th>count</th>\n",
              "      <th>first</th>\n",
              "      <th>nunique</th>\n",
              "    </tr>\n",
              "    <tr>\n",
              "      <th>month</th>\n",
              "      <th>item</th>\n",
              "      <th></th>\n",
              "      <th></th>\n",
              "      <th></th>\n",
              "      <th></th>\n",
              "      <th></th>\n",
              "      <th></th>\n",
              "    </tr>\n",
              "  </thead>\n",
              "  <tbody>\n",
              "    <tr>\n",
              "      <th rowspan=\"3\" valign=\"top\">2014-11</th>\n",
              "      <th>call</th>\n",
              "      <td>238.757009</td>\n",
              "      <td>1.000</td>\n",
              "      <td>1940.000</td>\n",
              "      <td>107</td>\n",
              "      <td>2014-10-15 06:58:00</td>\n",
              "      <td>104</td>\n",
              "    </tr>\n",
              "    <tr>\n",
              "      <th>data</th>\n",
              "      <td>34.429000</td>\n",
              "      <td>34.429</td>\n",
              "      <td>34.429</td>\n",
              "      <td>29</td>\n",
              "      <td>2014-10-15 06:58:00</td>\n",
              "      <td>29</td>\n",
              "    </tr>\n",
              "    <tr>\n",
              "      <th>sms</th>\n",
              "      <td>1.000000</td>\n",
              "      <td>1.000</td>\n",
              "      <td>1.000</td>\n",
              "      <td>94</td>\n",
              "      <td>2014-10-16 22:18:00</td>\n",
              "      <td>79</td>\n",
              "    </tr>\n",
              "    <tr>\n",
              "      <th rowspan=\"3\" valign=\"top\">2014-12</th>\n",
              "      <th>call</th>\n",
              "      <td>171.658228</td>\n",
              "      <td>2.000</td>\n",
              "      <td>2120.000</td>\n",
              "      <td>79</td>\n",
              "      <td>2014-11-14 17:24:00</td>\n",
              "      <td>76</td>\n",
              "    </tr>\n",
              "    <tr>\n",
              "      <th>data</th>\n",
              "      <td>34.429000</td>\n",
              "      <td>34.429</td>\n",
              "      <td>34.429</td>\n",
              "      <td>30</td>\n",
              "      <td>2014-11-13 06:58:00</td>\n",
              "      <td>30</td>\n",
              "    </tr>\n",
              "    <tr>\n",
              "      <th>sms</th>\n",
              "      <td>1.000000</td>\n",
              "      <td>1.000</td>\n",
              "      <td>1.000</td>\n",
              "      <td>48</td>\n",
              "      <td>2014-11-14 17:28:00</td>\n",
              "      <td>41</td>\n",
              "    </tr>\n",
              "  </tbody>\n",
              "</table>\n",
              "</div>"
            ],
            "text/plain": [
              "                duration          ...                date        \n",
              "                    mean     min  ...               first nunique\n",
              "month   item                      ...                            \n",
              "2014-11 call  238.757009   1.000  ... 2014-10-15 06:58:00     104\n",
              "        data   34.429000  34.429  ... 2014-10-15 06:58:00      29\n",
              "        sms     1.000000   1.000  ... 2014-10-16 22:18:00      79\n",
              "2014-12 call  171.658228   2.000  ... 2014-11-14 17:24:00      76\n",
              "        data   34.429000  34.429  ... 2014-11-13 06:58:00      30\n",
              "        sms     1.000000   1.000  ... 2014-11-14 17:28:00      41\n",
              "\n",
              "[6 rows x 6 columns]"
            ]
          },
          "metadata": {},
          "execution_count": 43
        }
      ]
    },
    {
      "cell_type": "code",
      "metadata": {
        "id": "yBXB2JYbj7rj"
      },
      "source": [
        "import numpy as np\n",
        "gd=df.groupby('month').agg({'duration':[min, np.mean]})"
      ],
      "execution_count": 57,
      "outputs": []
    },
    {
      "cell_type": "code",
      "metadata": {
        "colab": {
          "base_uri": "https://localhost:8080/",
          "height": 238
        },
        "id": "X5IL7ADdkJAo",
        "outputId": "6f525f80-a326-449f-b256-957db191eb70"
      },
      "source": [
        "gd"
      ],
      "execution_count": 61,
      "outputs": [
        {
          "output_type": "execute_result",
          "data": {
            "text/html": [
              "<div>\n",
              "<style scoped>\n",
              "    .dataframe tbody tr th:only-of-type {\n",
              "        vertical-align: middle;\n",
              "    }\n",
              "\n",
              "    .dataframe tbody tr th {\n",
              "        vertical-align: top;\n",
              "    }\n",
              "\n",
              "    .dataframe thead th {\n",
              "        text-align: right;\n",
              "    }\n",
              "</style>\n",
              "<table border=\"1\" class=\"dataframe\">\n",
              "  <thead>\n",
              "    <tr style=\"text-align: right;\">\n",
              "      <th></th>\n",
              "      <th>min</th>\n",
              "      <th>mean</th>\n",
              "    </tr>\n",
              "    <tr>\n",
              "      <th>month</th>\n",
              "      <th></th>\n",
              "      <th></th>\n",
              "    </tr>\n",
              "  </thead>\n",
              "  <tbody>\n",
              "    <tr>\n",
              "      <th>2014-11</th>\n",
              "      <td>1.0</td>\n",
              "      <td>115.823657</td>\n",
              "    </tr>\n",
              "    <tr>\n",
              "      <th>2014-12</th>\n",
              "      <td>1.0</td>\n",
              "      <td>93.260318</td>\n",
              "    </tr>\n",
              "    <tr>\n",
              "      <th>2015-01</th>\n",
              "      <td>1.0</td>\n",
              "      <td>88.894141</td>\n",
              "    </tr>\n",
              "    <tr>\n",
              "      <th>2015-02</th>\n",
              "      <td>1.0</td>\n",
              "      <td>113.301453</td>\n",
              "    </tr>\n",
              "    <tr>\n",
              "      <th>2015-03</th>\n",
              "      <td>1.0</td>\n",
              "      <td>225.251891</td>\n",
              "    </tr>\n",
              "  </tbody>\n",
              "</table>\n",
              "</div>"
            ],
            "text/plain": [
              "         min        mean\n",
              "month                   \n",
              "2014-11  1.0  115.823657\n",
              "2014-12  1.0   93.260318\n",
              "2015-01  1.0   88.894141\n",
              "2015-02  1.0  113.301453\n",
              "2015-03  1.0  225.251891"
            ]
          },
          "metadata": {},
          "execution_count": 61
        }
      ]
    },
    {
      "cell_type": "code",
      "metadata": {
        "colab": {
          "base_uri": "https://localhost:8080/",
          "height": 238
        },
        "id": "d7kHGeVVkj2Q",
        "outputId": "6b4a1e00-110d-4e65-9036-53e55aa4eb44"
      },
      "source": [
        "gd.columns=gd.columns.droplevel(level=0) #두번 하면 오류남\n",
        "gd #level 'duration'이 삭제됨 (-> 그룹화 index가 아님?)"
      ],
      "execution_count": 59,
      "outputs": [
        {
          "output_type": "execute_result",
          "data": {
            "text/html": [
              "<div>\n",
              "<style scoped>\n",
              "    .dataframe tbody tr th:only-of-type {\n",
              "        vertical-align: middle;\n",
              "    }\n",
              "\n",
              "    .dataframe tbody tr th {\n",
              "        vertical-align: top;\n",
              "    }\n",
              "\n",
              "    .dataframe thead th {\n",
              "        text-align: right;\n",
              "    }\n",
              "</style>\n",
              "<table border=\"1\" class=\"dataframe\">\n",
              "  <thead>\n",
              "    <tr style=\"text-align: right;\">\n",
              "      <th></th>\n",
              "      <th>min</th>\n",
              "      <th>mean</th>\n",
              "    </tr>\n",
              "    <tr>\n",
              "      <th>month</th>\n",
              "      <th></th>\n",
              "      <th></th>\n",
              "    </tr>\n",
              "  </thead>\n",
              "  <tbody>\n",
              "    <tr>\n",
              "      <th>2014-11</th>\n",
              "      <td>1.0</td>\n",
              "      <td>115.823657</td>\n",
              "    </tr>\n",
              "    <tr>\n",
              "      <th>2014-12</th>\n",
              "      <td>1.0</td>\n",
              "      <td>93.260318</td>\n",
              "    </tr>\n",
              "    <tr>\n",
              "      <th>2015-01</th>\n",
              "      <td>1.0</td>\n",
              "      <td>88.894141</td>\n",
              "    </tr>\n",
              "    <tr>\n",
              "      <th>2015-02</th>\n",
              "      <td>1.0</td>\n",
              "      <td>113.301453</td>\n",
              "    </tr>\n",
              "    <tr>\n",
              "      <th>2015-03</th>\n",
              "      <td>1.0</td>\n",
              "      <td>225.251891</td>\n",
              "    </tr>\n",
              "  </tbody>\n",
              "</table>\n",
              "</div>"
            ],
            "text/plain": [
              "         min        mean\n",
              "month                   \n",
              "2014-11  1.0  115.823657\n",
              "2014-12  1.0   93.260318\n",
              "2015-01  1.0   88.894141\n",
              "2015-02  1.0  113.301453\n",
              "2015-03  1.0  225.251891"
            ]
          },
          "metadata": {},
          "execution_count": 59
        }
      ]
    },
    {
      "cell_type": "code",
      "metadata": {
        "colab": {
          "base_uri": "https://localhost:8080/",
          "height": 238
        },
        "id": "lM2sDqljk2hL",
        "outputId": "70771610-1d55-448b-8d70-5829d12a542b"
      },
      "source": [
        "#열이름 재설정 \n",
        "gd.rename(columns={'min':'min_duration', 'mean':'mean_duration'})"
      ],
      "execution_count": 62,
      "outputs": [
        {
          "output_type": "execute_result",
          "data": {
            "text/html": [
              "<div>\n",
              "<style scoped>\n",
              "    .dataframe tbody tr th:only-of-type {\n",
              "        vertical-align: middle;\n",
              "    }\n",
              "\n",
              "    .dataframe tbody tr th {\n",
              "        vertical-align: top;\n",
              "    }\n",
              "\n",
              "    .dataframe thead th {\n",
              "        text-align: right;\n",
              "    }\n",
              "</style>\n",
              "<table border=\"1\" class=\"dataframe\">\n",
              "  <thead>\n",
              "    <tr style=\"text-align: right;\">\n",
              "      <th></th>\n",
              "      <th>min_duration</th>\n",
              "      <th>mean_duration</th>\n",
              "    </tr>\n",
              "    <tr>\n",
              "      <th>month</th>\n",
              "      <th></th>\n",
              "      <th></th>\n",
              "    </tr>\n",
              "  </thead>\n",
              "  <tbody>\n",
              "    <tr>\n",
              "      <th>2014-11</th>\n",
              "      <td>1.0</td>\n",
              "      <td>115.823657</td>\n",
              "    </tr>\n",
              "    <tr>\n",
              "      <th>2014-12</th>\n",
              "      <td>1.0</td>\n",
              "      <td>93.260318</td>\n",
              "    </tr>\n",
              "    <tr>\n",
              "      <th>2015-01</th>\n",
              "      <td>1.0</td>\n",
              "      <td>88.894141</td>\n",
              "    </tr>\n",
              "    <tr>\n",
              "      <th>2015-02</th>\n",
              "      <td>1.0</td>\n",
              "      <td>113.301453</td>\n",
              "    </tr>\n",
              "    <tr>\n",
              "      <th>2015-03</th>\n",
              "      <td>1.0</td>\n",
              "      <td>225.251891</td>\n",
              "    </tr>\n",
              "  </tbody>\n",
              "</table>\n",
              "</div>"
            ],
            "text/plain": [
              "         min_duration  mean_duration\n",
              "month                               \n",
              "2014-11           1.0     115.823657\n",
              "2014-12           1.0      93.260318\n",
              "2015-01           1.0      88.894141\n",
              "2015-02           1.0     113.301453\n",
              "2015-03           1.0     225.251891"
            ]
          },
          "metadata": {},
          "execution_count": 62
        }
      ]
    },
    {
      "cell_type": "code",
      "metadata": {
        "colab": {
          "base_uri": "https://localhost:8080/",
          "height": 238
        },
        "id": "-IG9UnzSlKLJ",
        "outputId": "9fad3e94-46e6-435b-f686-d674055831a8"
      },
      "source": [
        "#droplevel 후 요약에 사용된 기존 변수이름 보존\n",
        "gd.add_prefix('duration:')"
      ],
      "execution_count": 65,
      "outputs": [
        {
          "output_type": "execute_result",
          "data": {
            "text/html": [
              "<div>\n",
              "<style scoped>\n",
              "    .dataframe tbody tr th:only-of-type {\n",
              "        vertical-align: middle;\n",
              "    }\n",
              "\n",
              "    .dataframe tbody tr th {\n",
              "        vertical-align: top;\n",
              "    }\n",
              "\n",
              "    .dataframe thead th {\n",
              "        text-align: right;\n",
              "    }\n",
              "</style>\n",
              "<table border=\"1\" class=\"dataframe\">\n",
              "  <thead>\n",
              "    <tr style=\"text-align: right;\">\n",
              "      <th></th>\n",
              "      <th>duration:min</th>\n",
              "      <th>duration:mean</th>\n",
              "    </tr>\n",
              "    <tr>\n",
              "      <th>month</th>\n",
              "      <th></th>\n",
              "      <th></th>\n",
              "    </tr>\n",
              "  </thead>\n",
              "  <tbody>\n",
              "    <tr>\n",
              "      <th>2014-11</th>\n",
              "      <td>1.0</td>\n",
              "      <td>115.823657</td>\n",
              "    </tr>\n",
              "    <tr>\n",
              "      <th>2014-12</th>\n",
              "      <td>1.0</td>\n",
              "      <td>93.260318</td>\n",
              "    </tr>\n",
              "    <tr>\n",
              "      <th>2015-01</th>\n",
              "      <td>1.0</td>\n",
              "      <td>88.894141</td>\n",
              "    </tr>\n",
              "    <tr>\n",
              "      <th>2015-02</th>\n",
              "      <td>1.0</td>\n",
              "      <td>113.301453</td>\n",
              "    </tr>\n",
              "    <tr>\n",
              "      <th>2015-03</th>\n",
              "      <td>1.0</td>\n",
              "      <td>225.251891</td>\n",
              "    </tr>\n",
              "  </tbody>\n",
              "</table>\n",
              "</div>"
            ],
            "text/plain": [
              "         duration:min  duration:mean\n",
              "month                               \n",
              "2014-11           1.0     115.823657\n",
              "2014-12           1.0      93.260318\n",
              "2015-01           1.0      88.894141\n",
              "2015-02           1.0     113.301453\n",
              "2015-03           1.0     225.251891"
            ]
          },
          "metadata": {},
          "execution_count": 65
        }
      ]
    }
  ]
}